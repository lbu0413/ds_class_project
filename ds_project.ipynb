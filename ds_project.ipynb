{
 "cells": [
  {
   "cell_type": "markdown",
   "id": "5d409775-f274-404f-87cd-9af7d667a9d3",
   "metadata": {},
   "source": [
    "# how to use jupyter notebook\n",
    "* Shift + Enter to run the cell and cursor automatically moves to the next cell\n",
    "* press a to create a cell above\n",
    "* press b to create a cell below\n",
    "* pres dd to delete the cell\n",
    "* press m to change the cell format to markdown\n",
    "* press y to change the cell format to code"
   ]
  },
  {
   "cell_type": "code",
   "execution_count": 1,
   "id": "97c6e979-a6c7-4661-8ee7-43704a60e46d",
   "metadata": {},
   "outputs": [
    {
     "name": "stdout",
     "output_type": "stream",
     "text": [
      "Hello World!\n"
     ]
    }
   ],
   "source": [
    "print(\"Hello World!\")"
   ]
  },
  {
   "cell_type": "code",
   "execution_count": null,
   "id": "71c5e291-f2f1-42d5-86e9-51968e5f11fe",
   "metadata": {},
   "outputs": [],
   "source": []
  }
 ],
 "metadata": {
  "kernelspec": {
   "display_name": "Python 3 (ipykernel)",
   "language": "python",
   "name": "python3"
  },
  "language_info": {
   "codemirror_mode": {
    "name": "ipython",
    "version": 3
   },
   "file_extension": ".py",
   "mimetype": "text/x-python",
   "name": "python",
   "nbconvert_exporter": "python",
   "pygments_lexer": "ipython3",
   "version": "3.11.7"
  }
 },
 "nbformat": 4,
 "nbformat_minor": 5
}
